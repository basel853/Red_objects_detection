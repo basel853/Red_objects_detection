{
 "cells": [
  {
   "cell_type": "code",
   "execution_count": 7,
   "id": "bb2c85c1-bd56-4548-b9a8-2410b16abfd8",
   "metadata": {},
   "outputs": [
    {
     "name": "stdout",
     "output_type": "stream",
     "text": [
      "Requirement already satisfied: opencv-python in c:\\users\\basel\\anaconda3\\lib\\site-packages (4.10.0.84)\n",
      "Requirement already satisfied: numpy>=1.21.2 in c:\\users\\basel\\anaconda3\\lib\\site-packages (from opencv-python) (1.26.4)\n",
      "Note: you may need to restart the kernel to use updated packages.\n"
     ]
    }
   ],
   "source": [
    "pip install opencv-python"
   ]
  },
  {
   "cell_type": "code",
   "execution_count": 8,
   "id": "0a3fd33a-9455-4ec5-b43f-d686b5b6dea3",
   "metadata": {},
   "outputs": [],
   "source": [
    "import cv2\n",
    "import numpy as np"
   ]
  },
  {
   "cell_type": "code",
   "execution_count": 9,
   "id": "6f9cf272-18a3-44b5-9d9b-7801eae4a012",
   "metadata": {},
   "outputs": [],
   "source": [
    "def track_by_color(frame):\n",
    "    img = cv2.cvtColor(frame,cv2.COLOR_RGB2HSV)\n",
    "    \n",
    "    red_color1 = np.array([100,100,100])\n",
    "    red_color2 = np.array([140,255,255])\n",
    "\n",
    "\n",
    "    red_color3 = np.array([170,100,100])\n",
    "    red_color4 = np.array([180,255,255])\n",
    "    \n",
    "    mask1 = cv2.inRange(img,red_color1, red_color2)\n",
    "    mask2 = cv2.inRange(img,red_color3, red_color4)\n",
    "    \n",
    "    mask = cv2.bitwise_or(mask1,mask2)\n",
    "    out = cv2.bitwise_and(frame,frame,mask=mask1)\n",
    "\n",
    "    return out"
   ]
  },
  {
   "cell_type": "code",
   "execution_count": 10,
   "id": "b5a00204-92e1-447f-8533-5d9cd81071f2",
   "metadata": {},
   "outputs": [],
   "source": [
    "cap = cv2.VideoCapture(0)\n",
    "while True:\n",
    "    ret, frame= cap.read()\n",
    "    cv2.imshow(\"frame\",frame)\n",
    "    new_img = track_by_color(frame)\n",
    "    cv2.imshow(\"new_img\",new_img)\n",
    "    if cv2.waitKey(1) == ord('q'):\n",
    "        break\n",
    "cap.release()\n",
    "cv2.destroyAllWindows()"
   ]
  },
  {
   "cell_type": "code",
   "execution_count": null,
   "id": "7e93efc7-354f-4f42-9d82-0f1f289b25d8",
   "metadata": {},
   "outputs": [],
   "source": []
  }
 ],
 "metadata": {
  "kernelspec": {
   "display_name": "Python 3 (ipykernel)",
   "language": "python",
   "name": "python3"
  },
  "language_info": {
   "codemirror_mode": {
    "name": "ipython",
    "version": 3
   },
   "file_extension": ".py",
   "mimetype": "text/x-python",
   "name": "python",
   "nbconvert_exporter": "python",
   "pygments_lexer": "ipython3",
   "version": "3.12.4"
  }
 },
 "nbformat": 4,
 "nbformat_minor": 5
}
